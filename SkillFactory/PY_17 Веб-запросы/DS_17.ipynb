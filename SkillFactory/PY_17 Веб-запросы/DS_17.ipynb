{
 "cells": [
  {
   "cell_type": "markdown",
   "metadata": {},
   "source": [
    "#### В стандартной библиотеке Python для отправки веб-запросов существует функция urllib2, но большинство разработчиков используют стороннюю библиотеку requests\n",
    "#### Познакомимся с библиотекой requests, решив простую задачу — получить значения курсов валют.\n",
    "#### Разработаем код, так называемый скрипт (англ. script, рус. сценарий), — небольшую программу, которая содержит последовательность действий для автоматического выполнения задачи.\n"
   ]
  },
  {
   "cell_type": "code",
   "execution_count": null,
   "metadata": {},
   "outputs": [],
   "source": [
    "# Устанавливаем библиотеку requests\n",
    "# !pip install requests "
   ]
  },
  {
   "cell_type": "code",
   "execution_count": 11,
   "metadata": {},
   "outputs": [],
   "source": [
    "# Как только библиотека установлена, импортируем её и отправим наш \n",
    "# первый запрос к ресурсу Курсы валют ЦБ РФ в XML и JSON. Используем \n",
    "# метод get() из библиотеки requests, передав ему соответствующий URL —  \n",
    "# https://www.cbr-xml-daily.ru/daily_json.js:\n",
    "import requests # Импортируем библиотеку requests\n",
    "url = 'https://www.cbr-xml-daily.ru/daily_json.js' # Определяем значение URL страницы для запроса\n",
    "response = requests.get(url) # Делаем GET-запрос к ресурсу и результат ответа сохраняем в переменной response"
   ]
  },
  {
   "cell_type": "code",
   "execution_count": 7,
   "metadata": {},
   "outputs": [
    {
     "name": "stdout",
     "output_type": "stream",
     "text": [
      "<Response [200]>\n"
     ]
    }
   ],
   "source": [
    "# Проверим ответ сервера — содержимое переменной response:\n",
    "print(response) # Выводим значение response на экран как объект\n",
    "# [200] — то есть запрос был корректным и сервер отдал нам нужную информацию"
   ]
  },
  {
   "cell_type": "code",
   "execution_count": 6,
   "metadata": {},
   "outputs": [
    {
     "name": "stdout",
     "output_type": "stream",
     "text": [
      "200\n"
     ]
    }
   ],
   "source": [
    "# Код ответа в виде числовой переменной можно получить с помощью метода\n",
    "# status_code:\n",
    "print(response.status_code) # Выводим числовое значение response на экран"
   ]
  },
  {
   "cell_type": "code",
   "execution_count": 9,
   "metadata": {},
   "outputs": [
    {
     "name": "stdout",
     "output_type": "stream",
     "text": [
      "<Response [200]>\n"
     ]
    }
   ],
   "source": [
    "# Задание 3.1\n",
    "# Вы уже импортировали модуль requests в ваш код. \n",
    "# Напишите строку кода, при выполнении которой будет сделан GET-запрос\n",
    "# к ресурсу https://www.cbr-xml-daily.ru/daily.xml, \n",
    "# а результат ответа будет сохранён в переменной response:\n",
    "# response = requests.get('https://www.cbr-xml-daily.ru/daily.xml') \n",
    "print(response)"
   ]
  },
  {
   "cell_type": "markdown",
   "metadata": {},
   "source": [
    "### РАБОТАЕМ С ОТВЕТОМ"
   ]
  },
  {
   "cell_type": "code",
   "execution_count": null,
   "metadata": {},
   "outputs": [],
   "source": [
    "# Как получить доступ ко всей информации, которую содержит ответ?\n",
    "# Текст ответа хранится в атрибуте text. Выведем значение атрибута \n",
    "# на экран и посмотрим на его содержимое:\n",
    "print(response.text) # Выводим содержимое атрибута text переменной response на экран"
   ]
  },
  {
   "cell_type": "markdown",
   "metadata": {},
   "source": [
    "##### Проверить тип данных полученного ответа можно, воспользовавшись функцией type()."
   ]
  },
  {
   "cell_type": "code",
   "execution_count": 13,
   "metadata": {},
   "outputs": [
    {
     "data": {
      "text/plain": [
       "requests.models.Response"
      ]
     },
     "execution_count": 13,
     "metadata": {},
     "output_type": "execute_result"
    }
   ],
   "source": [
    "type(response)"
   ]
  },
  {
   "cell_type": "code",
   "execution_count": null,
   "metadata": {},
   "outputs": [],
   "source": [
    "# нам необходимо преобразовать строку в словарь. \n",
    "# В объект ответа Response  из библиотеки requests уже встроен метод json()\n",
    "from pprint import pprint # Импортируем функцию pprint()\n",
    "currencies = response.json() # Применяем метод json()\n",
    "pprint(currencies) # Выводим результат на экран)\n",
    "# Теперь данные находятся в словаре и можно легко получать необходимые значения."
   ]
  },
  {
   "cell_type": "code",
   "execution_count": 17,
   "metadata": {},
   "outputs": [
    {
     "name": "stdout",
     "output_type": "stream",
     "text": [
      "{'CharCode': 'EUR',\n",
      " 'ID': 'R01239',\n",
      " 'Name': 'Евро',\n",
      " 'Nominal': 1,\n",
      " 'NumCode': '978',\n",
      " 'Previous': 85.9752,\n",
      " 'Value': 86.7939}\n"
     ]
    }
   ],
   "source": [
    "#по ключу Valute мы можем обратиться к вложенному словарю,\n",
    "# который содержит информацию о мировых валютах. \n",
    "# Выведем на экран, например, информацию о евро (EUR):\n",
    "pprint(currencies['Valute']['EUR']) # Выводим на экран информацию о валюте евро"
   ]
  },
  {
   "cell_type": "code",
   "execution_count": 18,
   "metadata": {},
   "outputs": [
    {
     "name": "stdout",
     "output_type": "stream",
     "text": [
      "Чешских крон\n"
     ]
    }
   ],
   "source": [
    "# Задание 3.2\n",
    "# Повторите запросы, описанные в этом юните, на своём компьютере.\n",
    "# Что будет выведено на экран в результате выполнения следующего кода?\n",
    "print(currencies['Valute']['CZK']['Name'])"
   ]
  },
  {
   "cell_type": "markdown",
   "metadata": {},
   "source": [
    "## Парсинг сайтов"
   ]
  },
  {
   "cell_type": "markdown",
   "metadata": {},
   "source": [
    "ДОПОЛНИТЕЛЬНО\n",
    "\n",
    "Вы можете ознакомиться с информацией о HTML в справочнике, перейдя по ссылке http://htmlbook.ru/html\n"
   ]
  },
  {
   "cell_type": "markdown",
   "metadata": {},
   "source": [
    "### ПОЛУЧАЕМ СОДЕРЖИМОЕ ВЕБ-СТРАНИЦЫ"
   ]
  },
  {
   "cell_type": "code",
   "execution_count": null,
   "metadata": {},
   "outputs": [],
   "source": [
    "# Получим HTML-код интересующей нас страницы\n",
    "import requests # Импортируем библиотеку requests\n",
    "url = 'https://nplus1.ru/news/2021/10/11/econobel2021' # Определяем адрес страницы\n",
    "response = requests.get(url)  # Выполняем GET-запрос\n",
    "print(response.text)  # Выводим содержимое атрибута text\n",
    "# Ответ содержит HTML-код страницы, к которой мы обратились"
   ]
  },
  {
   "cell_type": "markdown",
   "metadata": {},
   "source": [
    "В отличие от предыдущего примера, где ответ возвращался в JSON-формате, мы не можем так просто преобразовать HTML-код в словарь и извлечь необходимую нам информацию.\n",
    "\n",
    "Для решения таких задач в Python существует специальная библиотека *BeautifulSoup*, о работе с которой мы поговорим в следующем юните."
   ]
  },
  {
   "cell_type": "markdown",
   "metadata": {},
   "source": [
    "### Библиотека BeautifulSoup"
   ]
  },
  {
   "cell_type": "code",
   "execution_count": 21,
   "metadata": {},
   "outputs": [],
   "source": [
    "# Устанавливаем библиотеку BeautifulSoup\n",
    "# !pip install beautifulsoup4 \n",
    "from bs4 import BeautifulSoup # Импортируем библиотеку BeautifulSoup\n"
   ]
  },
  {
   "cell_type": "markdown",
   "metadata": {},
   "source": [
    "Ранее мы уже получили содержимое страницы с помощью GET-запроса и сохранили информацию в переменной response , теперь создадим объект BeautifulSoup с именем page, указывая в качестве параметра html.parser."
   ]
  },
  {
   "cell_type": "code",
   "execution_count": 22,
   "metadata": {},
   "outputs": [
    {
     "name": "stdout",
     "output_type": "stream",
     "text": [
      "<title>Премию Нобеля по экономике присудили за исследования экономики труда и причинно-следственных связей</title>\n",
      "Премию Нобеля по экономике присудили за исследования экономики труда и причинно-следственных связей\n"
     ]
    }
   ],
   "source": [
    "# получим информацию o title (с англ. заголовок) — это строка, \n",
    "# которая отображается на вкладке браузера:\n",
    "import requests # Импортируем библиотеку requests\n",
    "from bs4 import BeautifulSoup # Импортируем библиотеку BeautifulSoup\n",
    "url = 'https://nplus1.ru/news/2021/10/11/econobel2021' # Определяем адрес страницы\n",
    "response = requests.get(url) # Выполняем GET-запрос, содержимое ответа присваивается переменной response\n",
    "page = BeautifulSoup(response.text, 'html.parser') # Создаём объект BeautifulSoup, указывая html-парсер\n",
    "print(page.title) # Получаем тег title, отображающийся на вкладке браузера\n",
    "print(page.title.text) # Выводим текст из полученного тега, который содержится в атрибуте text"
   ]
  },
  {
   "cell_type": "markdown",
   "metadata": {},
   "source": [
    "ИЗВЛЕКАЕМ ЗАГОЛОВОК И ВРЕМЯ НАПИСАНИЯ СТАТЬИ\n",
    "\n",
    "Выполним поставленную ранее задачу: получить информацию о странице и извлечь заголовок статьи, опубликованной на этой странице, дату публикации, а также текст статьи."
   ]
  },
  {
   "cell_type": "code",
   "execution_count": 23,
   "metadata": {},
   "outputs": [
    {
     "name": "stdout",
     "output_type": "stream",
     "text": [
      "Премию Нобеля по экономике присудили за исследования экономики труда и причинно-следственных связей\n"
     ]
    }
   ],
   "source": [
    "# мы можем получить его текст с помощью метода find() \n",
    "# (с англ. найти) объекта BeautifulSoup, передав ему \n",
    "# название интересующего нас тега:\n",
    "print(page.find('h1').text) # Применяем метод find() к объекту и выводим результат на экран"
   ]
  },
  {
   "cell_type": "markdown",
   "metadata": {},
   "source": [
    "Но как же узнать, в каких именно тегах заключена необходимая информация?"
   ]
  },
  {
   "cell_type": "code",
   "execution_count": 24,
   "metadata": {},
   "outputs": [
    {
     "name": "stdout",
     "output_type": "stream",
     "text": [
      "\n",
      "13:04\n",
      "11 Окт. 2021\n",
      "\n"
     ]
    }
   ],
   "source": [
    "# Итак, нам нужен тег <time> … </time>.\n",
    "# Теперь получим данные из него с помощью уже известного метода find(), \n",
    "# передав название нужного тега:\n",
    "print(page.find('time').text) # Выводим на экран содержимое атрибута text тега time"
   ]
  },
  {
   "cell_type": "markdown",
   "metadata": {},
   "source": [
    "### НЕУНИКАЛЬНЫЕ ТЕГИ: ИЗВЛЕКАЕМ ТЕКСТ СТАТЬИ"
   ]
  },
  {
   "cell_type": "code",
   "execution_count": null,
   "metadata": {},
   "outputs": [],
   "source": [
    "# Передадим название класса в метод find() с помощью аргумента class_ и получим текст статьи:\n",
    "\n",
    "print(page.find('div', class_='body').text) # Выводим содержимое атрибута text тега div класса body js-mediator-article"
   ]
  },
  {
   "cell_type": "markdown",
   "metadata": {},
   "source": [
    "### СБОР НЕСКОЛЬКИХ ЭЛЕМЕНТОВ: СОБИРАЕМ ВСЕ ССЫЛКИ НА СТРАНИЦЕ"
   ]
  },
  {
   "cell_type": "markdown",
   "metadata": {},
   "source": [
    "Рассмотрим ещё один сценарий: вы хотите собрать сразу несколько элементов со страницы. Например, представьте, что вы хотите получить названия всех языков программирования, упомянутых на странице в Wikipedia в статье про языки программирования.\n",
    "\n",
    "Можно заметить, что все названия языков программирования на этой странице связаны ссылками c соответствующими статьями о них. Таким образом, нам необходимо собрать все ссылки на странице."
   ]
  },
  {
   "cell_type": "code",
   "execution_count": 26,
   "metadata": {},
   "outputs": [
    {
     "name": "stdout",
     "output_type": "stream",
     "text": [
      "<a id=\"top\"></a>\n"
     ]
    }
   ],
   "source": [
    "# Для ссылок в HTML предусмотрен тег <a> … </a>. Попробуем использовать find():\n",
    "\n",
    "url = 'https://en.wikipedia.org/wiki/List_of_programming_languages' # Задаём адрес ресурса\n",
    "response = requests.get(url) # Делаем GET-запрос к ресурсу\n",
    "page = BeautifulSoup(response.text, 'html.parser') # Создаём объект BeautifulSoup\n",
    "print(page.find('a')) # Ищем ссылку по тегу <a> и выводим её на экран\n",
    "# Мы получили только одну ссылку, хотя на странице их явно больше."
   ]
  },
  {
   "cell_type": "code",
   "execution_count": 27,
   "metadata": {},
   "outputs": [
    {
     "name": "stdout",
     "output_type": "stream",
     "text": [
      "937\n"
     ]
    }
   ],
   "source": [
    "# Это происходит, потому что метод find() возвращает только первый\n",
    "# подходящий элемент. Если требуется получить больше элементов, \n",
    "# необходимо воспользоваться методом find_all() (с англ. найти все):\n",
    "links = page.find_all('a') # Ищем все ссылки на странице и сохраняем в переменной links в виде списка\n",
    "print(len(links)) # Выводим количество найденных ссылок"
   ]
  },
  {
   "cell_type": "code",
   "execution_count": 29,
   "metadata": {},
   "outputs": [
    {
     "name": "stdout",
     "output_type": "stream",
     "text": [
      "['Orwell', 'Oxygene', 'Oz', 'edit', 'P', 'P4', 'P′′', 'ParaSail', 'PARI/GP', 'Pascal']\n"
     ]
    }
   ],
   "source": [
    "# Итак, на момент создания этих учебных материалов на странице\n",
    "# содержалось 937 ссылок. Посмотрим на некоторые из них:\n",
    "print([link.text for link in links[510:520]]) # Выводим ссылки с 510 по 520 включительно"
   ]
  },
  {
   "cell_type": "code",
   "execution_count": 30,
   "metadata": {},
   "outputs": [
    {
     "name": "stdout",
     "output_type": "stream",
     "text": [
      "['', 'Jump to navigation', 'Jump to search', 'Programming languagelists', 'Alphabetical', 'Categorical', 'Chronological', 'Generational', 'v', 't']\n"
     ]
    }
   ],
   "source": [
    "# Не все ссылки соответствуют названиям языков программирования — \n",
    "# страница содержит также «служебные» ссылки, такие, например,\n",
    "# как Jump to navigation (с англ. Перейти к навигации) или \n",
    "# Alphabetical (с англ. По алфавиту):\n",
    "print([link.text for link in links[0:10]]) # Выводим ссылки с 1 по 9 включительно"
   ]
  },
  {
   "cell_type": "markdown",
   "metadata": {},
   "source": [
    "### ЗАПРОС К API ИЗ КОДА"
   ]
  },
  {
   "cell_type": "code",
   "execution_count": 39,
   "metadata": {},
   "outputs": [
    {
     "name": "stdout",
     "output_type": "stream",
     "text": [
      "{\"response\":[{\"id\":1,\"first_name\":\"Павел\",\"last_name\":\"Дуров\",\"can_access_closed\":true,\"is_closed\":false,\"sex\":2,\"bdate\":\"10.10.1984\"}]}\n"
     ]
    }
   ],
   "source": [
    "# Продолжаем пользоваться всё той же библиотекой requests.\n",
    "\n",
    "import requests # Импортируем модуль requests\n",
    "token = '0d1fad340d1fad340d1fad342f0d638be900d1f0d1fad346f49438f594667099516d65a' # Указываем свой сервисный токен\n",
    "url = 'https://api.vk.com/method/users.get' # Указываем адрес страницы к которой делаем запрос\n",
    "params = {'user_id': 1, 'v': 5.95, 'fields': 'sex,bdate', 'access_token': token, 'lang': 'ru'} # Перечисляем параметры нашего запроса в словаре params\n",
    "response = requests.get(url, params=params) # Отправляем запрос\n",
    "print(response.text) # Выводим текст ответа на экран"
   ]
  },
  {
   "cell_type": "code",
   "execution_count": 40,
   "metadata": {},
   "outputs": [
    {
     "name": "stdout",
     "output_type": "stream",
     "text": [
      "{'response': [{'bdate': '10.10.1984',\n",
      "               'can_access_closed': True,\n",
      "               'first_name': 'Павел',\n",
      "               'id': 1,\n",
      "               'is_closed': False,\n",
      "               'last_name': 'Дуров',\n",
      "               'sex': 2}]}\n"
     ]
    }
   ],
   "source": [
    "# Словари нагляднее выводить с помощью функции pprint(), \n",
    "# которую мы уже использовали ранее:\n",
    "from pprint import pprint # Импортируем функцию pprint()\n",
    "pprint(response.json()) # Выводим содержимое словаря, содержащего ответ, на экран"
   ]
  },
  {
   "cell_type": "code",
   "execution_count": 47,
   "metadata": {},
   "outputs": [
    {
     "name": "stdout",
     "output_type": "stream",
     "text": [
      "10.10.1984\n"
     ]
    }
   ],
   "source": [
    "# список содержит только один элемент. Извлечём его:\n",
    "\n",
    "user = response.json()['response'][0] # Извлекаем из словаря по ключу response информацию о первом пользователе\n",
    "print(user['bdate']) # Выводим дату рождения первого пользователя на экран"
   ]
  },
  {
   "cell_type": "code",
   "execution_count": 48,
   "metadata": {},
   "outputs": [
    {
     "name": "stdout",
     "output_type": "stream",
     "text": [
      "{'response': [{'can_access_closed': True,\n",
      "               'first_name': 'Павел',\n",
      "               'id': 1,\n",
      "               'is_closed': False,\n",
      "               'last_name': 'Дуров'},\n",
      "              {'can_access_closed': False,\n",
      "               'first_name': 'Александра',\n",
      "               'id': 2,\n",
      "               'is_closed': True,\n",
      "               'last_name': 'Владимирова'},\n",
      "              {'deactivated': 'deleted',\n",
      "               'first_name': 'DELETED',\n",
      "               'id': 3,\n",
      "               'last_name': ''}]}\n"
     ]
    }
   ],
   "source": [
    "# чтобы получить информацию о пользователях с id=1, id=2, id=3, \n",
    "# необходимо передать значение параметра user_ids='1,2,3'\n",
    "ids = \",\".join(map(str, range(1, 4))) # Формируем строку, содержащую информацию о поле id первых трёх пользователей\n",
    "params = {'user_ids': ids, 'v': 5.95, 'fields': 'bday', 'access_token': token, 'lang': 'ru'} # Формируем строку параметров\n",
    "pprint(requests.get(url, params=params).json()) # Посылаем запрос, полученный ответ в формате JSON-строки преобразуем в словарь и выводим на экран его содержимое, используя функцию pprint()"
   ]
  },
  {
   "cell_type": "markdown",
   "metadata": {},
   "source": [
    "### Задание 6.2\n",
    "1 point possible (graded)\n",
    "Используя API, определите долю женщин (sex=1) среди пользователей с id от 1 до 500. Иногда будут попадаться пользователи, у которых пол не указан (sex=0), — таких пользователей не нужно учитывать в общем числе.\n",
    "\n",
    "В ответе укажите число, округлив до двух знаков после точки-разделителя, например, 0.55.\n",
    "\n",
    "Пример: если у нас будет 300 пользователей с sex=1, 100 пользователей с sex=2 и 100 пользователей с sex=0, то в ответе должно быть 0.75."
   ]
  },
  {
   "cell_type": "code",
   "execution_count": 49,
   "metadata": {},
   "outputs": [
    {
     "name": "stdout",
     "output_type": "stream",
     "text": [
      "0.49\n"
     ]
    }
   ],
   "source": [
    "import requests\n",
    "token = '0d1fad340d1fad340d1fad342f0d638be900d1f0d1fad346f49438f594667099516d65a'\n",
    "url = 'https://api.vk.com/method/users.get'\n",
    "ids = \",\".join(map(str, range(1, 501)))\n",
    "params = {'user_ids': ids, 'v': 5.95, 'fields': 'sex,bdate', 'access_token': token, 'lang': 'ru'}\n",
    "response = requests.get(url, params=params).json()['response']\n",
    "men=women=0\n",
    "for elem in response:\n",
    "    if elem['sex'] == 2:\n",
    "        men+=1\n",
    "    elif elem['sex'] == 1:\n",
    "        women+=1\n",
    "    else:\n",
    "        continue\n",
    "print(round(women/(men+women),2))"
   ]
  }
 ],
 "metadata": {
  "interpreter": {
   "hash": "50968e68b8e1942e880b32e0620a4bcdecefbc2dcde6a74ee6cb6fb98eecefa7"
  },
  "kernelspec": {
   "display_name": "Python 3.9.10 64-bit",
   "language": "python",
   "name": "python3"
  },
  "language_info": {
   "codemirror_mode": {
    "name": "ipython",
    "version": 3
   },
   "file_extension": ".py",
   "mimetype": "text/x-python",
   "name": "python",
   "nbconvert_exporter": "python",
   "pygments_lexer": "ipython3",
   "version": "3.9.10"
  },
  "orig_nbformat": 4
 },
 "nbformat": 4,
 "nbformat_minor": 2
}
